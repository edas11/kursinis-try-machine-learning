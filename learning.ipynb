{
 "cells": [
  {
   "cell_type": "code",
   "execution_count": 1,
   "metadata": {},
   "outputs": [],
   "source": [
    "import matplotlib.pyplot as plt\n",
    "import numpy as np\n",
    "import pandas as pd\n",
    "import tensorflow as tf\n",
    "import warnings\n",
    "import random\n",
    "from density_db import density_database\n",
    "from sklearn.model_selection import train_test_split\n",
    "from sklearn.linear_model import Lasso\n",
    "from sklearn.linear_model import Ridge\n",
    "from sklearn.linear_model import LinearRegression\n",
    "from sklearn.tree import DecisionTreeRegressor\n",
    "from sklearn.metrics import mean_squared_error\n",
    "from sklearn.metrics import explained_variance_score\n",
    "from sklearn.metrics import accuracy_score\n",
    "from sklearn.metrics import precision_score\n",
    "from sklearn.metrics import recall_score\n",
    "from sklearn.model_selection import KFold\n",
    "from sklearn.model_selection import cross_val_score\n",
    "from sklearn.ensemble import RandomForestRegressor\n",
    "from sklearn.ensemble import VotingRegressor\n",
    "from sklearn import svm\n",
    "from sklearn.svm import LinearSVR\n",
    "from sklearn.svm import SVR\n",
    "from sklearn.svm import SVC\n",
    "from sklearn.neighbors import KNeighborsRegressor\n",
    "from sklearn.gaussian_process import GaussianProcessRegressor\n",
    "from sklearn.gaussian_process.kernels import DotProduct, WhiteKernel\n",
    "from tensorflow import keras\n",
    "from tensorflow.keras import optimizers\n",
    "from tensorflow.keras import initializers\n",
    "import warnings"
   ]
  },
  {
   "cell_type": "code",
   "execution_count": 2,
   "metadata": {},
   "outputs": [],
   "source": [
    "#get data\n",
    "def get_data():\n",
    "    rawData = density_database('density.db').selectAllErrorsWithParams('Redfield').fetchall()\n",
    "    return pd.DataFrame(data=rawData, columns=['delta_e', 'J', 'lambda', 'gamma', 'T', 'error'])"
   ]
  },
  {
   "cell_type": "code",
   "execution_count": 3,
   "metadata": {},
   "outputs": [],
   "source": [
    "#plot\n",
    "def plot_error(data):\n",
    "    data.loc[\n",
    "        #(data['delta_e'] == 100.)\n",
    "         (data['J'] == 100.)\n",
    "        & (data['lambda'] == 10.)\n",
    "        & (data['gamma'] == 10.)\n",
    "        & (data['T'] == 300.)\n",
    "    ].plot(kind=\"scatter\", x=\"delta_e\", y=\"error\", logy=True)\n",
    "    plt.ylim(10**-5,10**-2)\n",
    "#plot_error(get_data())"
   ]
  },
  {
   "cell_type": "code",
   "execution_count": 4,
   "metadata": {},
   "outputs": [],
   "source": [
    "#explore combinations\n",
    "def correletions():\n",
    "    tryData = get_data()\n",
    "    tryData['gamma-lambda'] = tryData['gamma']*tryData['lambda']\n",
    "    tryData['gamma-delta_e'] = tryData['gamma']*tryData['delta_e']\n",
    "    tryData['gamma-J'] = tryData['gamma']*tryData['J']\n",
    "    tryData['lambda-delta_e'] = tryData['lambda']*tryData['delta_e']\n",
    "    tryData['lambda-J'] = tryData['lambda']*tryData['J']\n",
    "    tryData['delta_e-J'] = tryData['delta_e']*tryData['J']\n",
    "    corr_matrix = tryData.corr()\n",
    "    return corr_matrix['error']"
   ]
  },
  {
   "cell_type": "code",
   "execution_count": 5,
   "metadata": {},
   "outputs": [],
   "source": [
    "def prepare_train_and_test_sets(data):\n",
    "    modifiedData = data.copy()\n",
    "    modifiedData['delta_e'] = modifiedData['delta_e']/400\n",
    "    modifiedData['J'] = modifiedData['J']/400\n",
    "    modifiedData['lambda'] = modifiedData['lambda']/400\n",
    "    modifiedData['gamma'] = modifiedData['gamma']/400\n",
    "    modifiedData['T'] = modifiedData['T']/300\n",
    "    modifiedData['gamma-lambda'] = modifiedData['gamma']*modifiedData['lambda']\n",
    "    modifiedData['gamma-delta_e'] = modifiedData['gamma']*modifiedData['delta_e']\n",
    "    modifiedData['gamma-J'] = modifiedData['gamma']*modifiedData['J']\n",
    "    modifiedData['lambda-delta_e'] = modifiedData['lambda']*modifiedData['delta_e']\n",
    "    modifiedData['lambda-J'] = modifiedData['lambda']*modifiedData['J']\n",
    "    modifiedData['delta_e-J'] = modifiedData['delta_e']*modifiedData['J']\n",
    "    modifiedData['error'] = np.log(modifiedData['error'])\n",
    "    return modifiedData"
   ]
  },
  {
   "cell_type": "code",
   "execution_count": 6,
   "metadata": {},
   "outputs": [],
   "source": [
    "train_set = prepare_train_and_test_sets(get_data())"
   ]
  },
  {
   "cell_type": "code",
   "execution_count": 7,
   "metadata": {},
   "outputs": [],
   "source": [
    "def mspe(y, y_predicted):\n",
    "    y = np.exp(y)\n",
    "    y_predicted = np.exp(y_predicted)\n",
    "    return 100 * np.sum(np.square((y - y_predicted)/y)) / len(y)\n",
    "\n",
    "def mape(y, y_predicted):\n",
    "    y = np.exp(y)\n",
    "    y_predicted = np.exp(y_predicted)\n",
    "    return 100 * np.sum(np.abs((y - y_predicted)/y)) / len(y)\n",
    "\n",
    "def mae(y, y_predicted):\n",
    "    y = np.exp(y)\n",
    "    y_predicted = np.exp(y_predicted)\n",
    "    return np.sum(np.abs(y - y_predicted)) / len(y)\n",
    "\n",
    "def rmse(y, y_predicted):\n",
    "    y = np.exp(y)\n",
    "    y_predicted = np.exp(y_predicted)\n",
    "    return np.sqrt(np.sum(np.square(y - y_predicted)) / len(y))\n",
    "\n",
    "def visualiseError(data_labels, labels_predicted):\n",
    "    sort = np.argsort(data_labels)\n",
    "    plt.plot(range(len(data_labels)), [data_labels[i] for i in sort])\n",
    "    plt.plot(range(len(labels_predicted)), [labels_predicted[i] for i in sort])\n",
    "    plt.ylim(-10, 0)\n",
    "    plt.show()\n",
    "\n",
    "def trainMethod(methodFactory, train_set, argsForFit):\n",
    "    data_labels = np.array(train_set[\"error\"].copy())\n",
    "    data_prepared = np.array(train_set.drop(\"error\", axis=1))\n",
    "    kfold = KFold(n_splits=3, shuffle=True, random_state=10)\n",
    "    errors = [];\n",
    "    errors_train = [];\n",
    "    part_error = None;\n",
    "    for train, test in kfold.split(data_prepared, data_labels):\n",
    "        method = methodFactory()\n",
    "        method.fit(data_prepared[train], data_labels[train], **argsForFit)\n",
    "        labels_predicted_train = np.squeeze(method.predict(data_prepared[train]))\n",
    "        labels_predicted = np.squeeze(method.predict(data_prepared[test]))\n",
    "        #if len(errors) == 0:\n",
    "        #    visualiseError(data_labels[test], labels_predicted)\n",
    "        errors.append(rmse(data_labels[test], labels_predicted))\n",
    "        errors_train.append(rmse(data_labels[train], labels_predicted_train))\n",
    "    print('Test Error: %.2e' % (sum(errors)/len(errors)))\n",
    "    print('Train Error: %.2e' % (sum(errors_train)/len(errors_train)))\n",
    "    return (sum(errors)/len(errors), sum(errors_train)/len(errors_train))"
   ]
  },
  {
   "cell_type": "code",
   "execution_count": 8,
   "metadata": {},
   "outputs": [],
   "source": [
    "def createLinearRegressor():\n",
    "    return LinearRegression()\n",
    "\n",
    "def createRandomForestRegressor():\n",
    "    return RandomForestRegressor(n_estimators=50, max_leaf_nodes = 100, max_depth = 5)\n",
    "\n",
    "def createSupportVectorMachinesRegressor():\n",
    "    return SVR(kernel = 'rbf', gamma = 'scale', epsilon = 0.1, C = 1)\n",
    "\n",
    "def createNearestNeighborsRegressor():\n",
    "    return KNeighborsRegressor(n_neighbors=5, weights='uniform')\n",
    "\n",
    "def createLinearLassoRegressor():\n",
    "    return Lasso(alpha = 0.01)\n",
    "\n",
    "def createLinearRidgeRegressor():\n",
    "    return Ridge()\n",
    "\n",
    "def createDecisionTreeRegressor():\n",
    "    return DecisionTreeRegressor(max_leaf_nodes = 100, max_depth = 5)\n",
    "\n",
    "def createGaussianProcessRegressor():\n",
    "    kernel = DotProduct() + WhiteKernel()\n",
    "    return GaussianProcessRegressor(kernel=kernel, alpha=1e-9, random_state=1)\n",
    "\n",
    "def createVotingRegressor():\n",
    "    svr = createSupportVectorMachinesRegressor()\n",
    "    for_reg = createRandomForestRegressor()\n",
    "    k_neigh = createNearestNeighborsRegressor()\n",
    "    linear = createLinearRegressor()\n",
    "    return VotingRegressor([('a', svr), ('b', for_reg), ('c', k_neigh), ('d', linear)])\n",
    "\n",
    "def createNeuralNetwork():\n",
    "    method = keras.Sequential([\n",
    "            keras.layers.Dense(11, activation = 'elu', input_shape=(11,)),\n",
    "            keras.layers.Dense(11, activation = 'elu'),\n",
    "            keras.layers.Dense(1)\n",
    "        ])\n",
    "    optimizer = optimizers.Adam(learning_rate=0.1)\n",
    "    method.compile(optimizer=optimizer, loss='mean_squared_error')\n",
    "    return method"
   ]
  },
  {
   "cell_type": "code",
   "execution_count": 9,
   "metadata": {},
   "outputs": [
    {
     "name": "stdout",
     "output_type": "stream",
     "text": [
      "Linear\n",
      "Test Error: 1.06e-03\n",
      "Train Error: 1.06e-03\n",
      "\n",
      "Linear Lasso\n",
      "Test Error: 9.98e-04\n",
      "Train Error: 9.97e-04\n",
      "\n",
      "Linear Ridge\n",
      "Test Error: 1.05e-03\n",
      "Train Error: 1.05e-03\n",
      "\n",
      "Random Forest\n",
      "Test Error: 7.29e-04\n",
      "Train Error: 6.85e-04\n",
      "\n",
      "Decision Tree\n",
      "Test Error: 7.86e-04\n",
      "Train Error: 7.50e-04\n",
      "\n",
      "K Nearest Neighbors\n",
      "Test Error: 7.56e-04\n",
      "Train Error: 6.60e-04\n",
      "\n",
      "Support Vector Machines\n",
      "Test Error: 6.36e-04\n",
      "Train Error: 5.88e-04\n",
      "\n",
      "Voting Regressor\n",
      "Test Error: 6.76e-04\n",
      "Train Error: 6.36e-04\n",
      "\n",
      "Neural Network\n",
      "Test Error: 7.43e-04\n",
      "Train Error: 6.85e-04\n"
     ]
    }
   ],
   "source": [
    "allErrors = []\n",
    "allLabels = ['Linear', 'Linear Lasso', 'Linear Ridge', 'Random Forest',\n",
    "             'Decision Tree', 'K Nearest Neighbors', 'Support Vector Machines',\n",
    "             'Voting Regressor', 'Neural Network']\n",
    "allLabels = ['Tiesinė regresija', 'Laso regresija', 'Keteros regresija', 'Atsitiktinis miškas',\n",
    "             'Sprendimo medis', 'K artimiausių kaimynų', 'Atraminių vektorių mašinos',\n",
    "             'Balsavimo regresija', 'Neuroniniai tinklai']\n",
    "print('Linear')\n",
    "error = trainMethod(createLinearRegressor, train_set, {})\n",
    "allErrors.append(error)\n",
    "print()\n",
    "print('Linear Lasso')\n",
    "error = trainMethod(createLinearLassoRegressor, train_set, {})\n",
    "allErrors.append(error)\n",
    "print()\n",
    "print('Linear Ridge')\n",
    "error = trainMethod(createLinearRidgeRegressor, train_set, {})\n",
    "allErrors.append(error)\n",
    "print()\n",
    "print('Random Forest')\n",
    "error = trainMethod(createRandomForestRegressor, train_set, {})\n",
    "allErrors.append(error)\n",
    "print()\n",
    "print('Decision Tree')\n",
    "error = trainMethod(createDecisionTreeRegressor, train_set, {})\n",
    "allErrors.append(error)\n",
    "print()\n",
    "print('K Nearest Neighbors')\n",
    "error = trainMethod(createNearestNeighborsRegressor, train_set, {})\n",
    "allErrors.append(error)\n",
    "print()\n",
    "print('Support Vector Machines')\n",
    "error = trainMethod(createSupportVectorMachinesRegressor, train_set, {})\n",
    "allErrors.append(error)\n",
    "print()\n",
    "print('Voting Regressor')\n",
    "error = trainMethod(createVotingRegressor, train_set, {})\n",
    "allErrors.append(error)\n",
    "print()\n",
    "#print('Gaussian Process')\n",
    "#error = trainMethod(createGaussianProcessRegressor, train_set, {})\n",
    "#allErrors.append(error)\n",
    "#print()\n",
    "print('Neural Network')\n",
    "error = trainMethod(createNeuralNetwork, train_set, {'batch_size': 100, 'epochs': 200, 'validation_split': 0, 'verbose': 0})\n",
    "allErrors.append(error)\n",
    "fiveFeaturesErrors = allErrors;"
   ]
  },
  {
   "cell_type": "code",
   "execution_count": 10,
   "metadata": {},
   "outputs": [
    {
     "data": {
      "image/png": "[encoded data removed]",
      "text/plain": [
       "<Figure size 720x432 with 1 Axes>"
      ]
     },
     "metadata": {
      "needs_background": "light"
     },
     "output_type": "display_data"
    }
   ],
   "source": [
    "allErrors\n",
    "testErrors = list(zip(*allErrors))[0]\n",
    "trainErrors = list(zip(*allErrors))[1]\n",
    "sort = list(reversed(np.argsort(testErrors)))\n",
    "plt.figure(figsize=(10, 6))\n",
    "plt.plot([10**-3, 10**-3], [-10, 15], c = 'k')\n",
    "plt.plot([10**-4, 10**-4], [-10, 15], c = 'k')\n",
    "a = plt.barh([allLabels[i] for i in sort], [testErrors[i] for i in sort])\n",
    "b = plt.barh([allLabels[i] for i in sort], [trainErrors[i] for i in sort])\n",
    "plt.legend([a, b], ['Testavimo paklaida', 'Mokymosi paklaida'], bbox_to_anchor=(0.62, 0, 0, 0.97), framealpha = 1, fontsize=16)\n",
    "plt.ticklabel_format(style='sci', axis='x', scilimits=(0,0))\n",
    "plt.ylim(-1, 9)\n",
    "plt.xlabel('Metodo paklaida, s.v.', fontsize=16)\n",
    "plt.ylabel('Metodo pavadinimas', fontsize=16)\n",
    "plt.yticks(fontsize=16)\n",
    "plt.xticks(fontsize=16)\n",
    "plt.gca().xaxis.get_offset_text().set_fontsize(16)\n",
    "plt.savefig('grafikas.png', bbox_inches = 'tight', pad_inches = 0.5)"
   ]
  },
  {
   "cell_type": "code",
   "execution_count": 11,
   "metadata": {},
   "outputs": [
    {
     "name": "stdout",
     "output_type": "stream",
     "text": [
      "0.9361702127659575\n",
      "0.9433962264150944\n",
      "0.847457627118644\n"
     ]
    }
   ],
   "source": [
    "data = prepare_train_and_test_sets(get_data());\n",
    "data_labels = np.exp(np.array(data[\"error\"].copy()))\n",
    "data_prepared = np.array(data.drop(\"error\", axis=1))\n",
    "smallIdx = data_labels < 5*10**-4\n",
    "bigIdx = data_labels > 5*10**-4\n",
    "data_labels[smallIdx] = 1\n",
    "data_labels[bigIdx] = 0\n",
    "X_train, X_test, y_train, y_test = train_test_split(data_prepared, data_labels, test_size=0.33, random_state=38)\n",
    "#data_labels\n",
    "clf = SVC(kernel = 'rbf', gamma = 'scale', C = 100)\n",
    "clf.fit(X_train, y_train)\n",
    "#print(clf.predict(X_test))\n",
    "print(accuracy_score(y_test, clf.predict(X_test)))\n",
    "print(precision_score(y_test, clf.predict(X_test)))\n",
    "print(recall_score(y_test, clf.predict(X_test)))"
   ]
  },
  {
   "cell_type": "code",
   "execution_count": 12,
   "metadata": {
    "scrolled": true
   },
   "outputs": [
    {
     "name": "stdout",
     "output_type": "stream",
     "text": [
      "1.3409412121817197\n",
      "1.3992794100700945\n"
     ]
    },
    {
     "data": {
      "text/plain": [
       "2.9523591214442626e-06"
      ]
     },
     "execution_count": 12,
     "metadata": {},
     "output_type": "execute_result"
    }
   ],
   "source": [
    "print(get_data()['error'].mean()*1000)\n",
    "print(get_data()['error'].std()*1000)\n",
    "min(get_data()['error'])"
   ]
  },
  {
   "cell_type": "code",
   "execution_count": 13,
   "metadata": {},
   "outputs": [],
   "source": [
    "#fiveTestErrors = np.array(list(zip(*fiveFeaturesErrors))[0])\n",
    "#elevenTestErrors = np.array(list(zip(*elevenFeaturesErrors))[0])\n",
    "#relErrors = 100*(fiveTestErrors - elevenTestErrors)/fiveTestErrors\n",
    "#dict(zip(allLabels, relErrors))"
   ]
  },
  {
   "cell_type": "code",
   "execution_count": 14,
   "metadata": {},
   "outputs": [
    {
     "data": {
      "text/plain": [
       "'0.22.1'"
      ]
     },
     "execution_count": 14,
     "metadata": {},
     "output_type": "execute_result"
    }
   ],
   "source": [
    "import sklearn\n",
    "sklearn.__version__"
   ]
  },
  {
   "cell_type": "code",
   "execution_count": null,
   "metadata": {},
   "outputs": [],
   "source": []
  }
 ],
 "metadata": {
  "kernelspec": {
   "display_name": "Python 3",
   "language": "python",
   "name": "python3"
  },
  "language_info": {
   "codemirror_mode": {
    "name": "ipython",
    "version": 3
   },
   "file_extension": ".py",
   "mimetype": "text/x-python",
   "name": "python",
   "nbconvert_exporter": "python",
   "pygments_lexer": "ipython3",
   "version": "3.7.3"
  }
 },
 "nbformat": 4,
 "nbformat_minor": 2
}
