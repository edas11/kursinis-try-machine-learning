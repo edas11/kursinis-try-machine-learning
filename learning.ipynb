{
 "cells": [
  {
   "cell_type": "code",
   "execution_count": 1,
   "metadata": {},
   "outputs": [],
   "source": [
    "import matplotlib.pyplot as plt\n",
    "import numpy as np\n",
    "import pandas as pd\n",
    "import tensorflow as tf\n",
    "import warnings\n",
    "import random\n",
    "from density_db import density_database\n",
    "from sklearn.model_selection import train_test_split\n",
    "from sklearn.linear_model import Lasso\n",
    "from sklearn.linear_model import Ridge\n",
    "from sklearn.linear_model import LinearRegression\n",
    "from sklearn.tree import DecisionTreeRegressor\n",
    "from sklearn.metrics import mean_squared_error\n",
    "from sklearn.metrics import explained_variance_score\n",
    "from sklearn.model_selection import KFold\n",
    "from sklearn.model_selection import cross_val_score\n",
    "from sklearn.ensemble import RandomForestRegressor\n",
    "from sklearn.ensemble import VotingRegressor\n",
    "from sklearn import svm\n",
    "from sklearn.svm import LinearSVR\n",
    "from sklearn.svm import SVR\n",
    "from sklearn.neighbors import KNeighborsRegressor\n",
    "from sklearn.gaussian_process import GaussianProcessRegressor\n",
    "from sklearn.gaussian_process.kernels import DotProduct, WhiteKernel\n",
    "from tensorflow import keras\n",
    "from tensorflow.keras import optimizers\n",
    "from tensorflow.keras import initializers\n",
    "import warnings"
   ]
  },
  {
   "cell_type": "code",
   "execution_count": 2,
   "metadata": {},
   "outputs": [],
   "source": [
    "#get data\n",
    "def get_data():\n",
    "    rawData = density_database('density.db').selectAllErrorsWithParams('Redfield').fetchall()\n",
    "    return pd.DataFrame(data=rawData, columns=['delta_e', 'J', 'lambda', 'gamma', 'T', 'error'])"
   ]
  },
  {
   "cell_type": "code",
   "execution_count": 3,
   "metadata": {},
   "outputs": [],
   "source": [
    "#plot\n",
    "def plot_error(data):\n",
    "    data.loc[\n",
    "        (data['delta_e'] == 100.)\n",
    "        & (data['J'] == 100.)\n",
    "        & (data['lambda'] == 100.)\n",
    "        & (data['gamma'] == 100.)\n",
    "        & (data['T'] == 300.)\n",
    "    ].plot(kind=\"scatter\", x=\"delta_e\", y=\"error\", logy=True)\n",
    "    plt.ylim(10**-4,10**-2)"
   ]
  },
  {
   "cell_type": "code",
   "execution_count": 19,
   "metadata": {},
   "outputs": [
    {
     "data": {
      "text/plain": [
       "delta_e           0.326853\n",
       "J                 0.495703\n",
       "lambda            0.325235\n",
       "gamma             0.225282\n",
       "T                -0.140881\n",
       "error             1.000000\n",
       "gamma-lambda      0.337466\n",
       "gamma-delta_e     0.369658\n",
       "gamma-J           0.543054\n",
       "lambda-delta_e    0.375550\n",
       "lambda-J          0.584234\n",
       "delta_e-J         0.664764\n",
       "Name: error, dtype: float64"
      ]
     },
     "execution_count": 19,
     "metadata": {},
     "output_type": "execute_result"
    }
   ],
   "source": [
    "#explore combinations\n",
    "def correletions():\n",
    "    tryData = get_data()\n",
    "    tryData['gamma-lambda'] = tryData['gamma']*tryData['lambda']\n",
    "    tryData['gamma-delta_e'] = tryData['gamma']*tryData['delta_e']\n",
    "    tryData['gamma-J'] = tryData['gamma']*tryData['J']\n",
    "    tryData['lambda-delta_e'] = tryData['lambda']*tryData['delta_e']\n",
    "    tryData['lambda-J'] = tryData['lambda']*tryData['J']\n",
    "    tryData['delta_e-J'] = tryData['delta_e']*tryData['J']\n",
    "    corr_matrix = tryData.corr()\n",
    "    return corr_matrix['error']\n",
    "correletions()"
   ]
  },
  {
   "cell_type": "code",
   "execution_count": 5,
   "metadata": {},
   "outputs": [],
   "source": [
    "def prepare_train_and_test_sets(data):\n",
    "    modifiedData = data.copy()\n",
    "    modifiedData['delta_e'] = modifiedData['delta_e']/400\n",
    "    modifiedData['J'] = modifiedData['J']/400\n",
    "    modifiedData['lambda'] = modifiedData['lambda']/400\n",
    "    modifiedData['gamma'] = modifiedData['gamma']/400\n",
    "    modifiedData['T'] = modifiedData['T']/300\n",
    "    modifiedData['gamma-lambda'] = modifiedData['gamma']*modifiedData['lambda']\n",
    "    modifiedData['gamma-delta_e'] = modifiedData['gamma']*modifiedData['delta_e']\n",
    "    modifiedData['gamma-J'] = modifiedData['gamma']*modifiedData['J']\n",
    "    modifiedData['lambda-delta_e'] = modifiedData['lambda']*modifiedData['delta_e']\n",
    "    modifiedData['lambda-J'] = modifiedData['lambda']*modifiedData['J']\n",
    "    modifiedData['delta_e-J'] = modifiedData['delta_e']*modifiedData['J']\n",
    "    modifiedData['error'] = np.log(modifiedData['error'])\n",
    "    return modifiedData"
   ]
  },
  {
   "cell_type": "code",
   "execution_count": 6,
   "metadata": {},
   "outputs": [],
   "source": [
    "train_set = prepare_train_and_test_sets(get_data())"
   ]
  },
  {
   "cell_type": "code",
   "execution_count": 7,
   "metadata": {},
   "outputs": [],
   "source": [
    "def mspe(y, y_predicted):\n",
    "    y = np.exp(y)\n",
    "    y_predicted = np.exp(y_predicted)\n",
    "    return 100 * np.sum(np.square((y - y_predicted)/y)) / len(y)\n",
    "\n",
    "def mape(y, y_predicted):\n",
    "    y = np.exp(y)\n",
    "    y_predicted = np.exp(y_predicted)\n",
    "    return 100 * np.sum(np.abs((y - y_predicted)/y)) / len(y)\n",
    "\n",
    "def rmse(y, y_predicted):\n",
    "    y = np.exp(y)\n",
    "    y_predicted = np.exp(y_predicted)\n",
    "    return np.sqrt(np.sum(np.square(y - y_predicted)) / len(y))\n",
    "\n",
    "def visualiseError(data_labels, labels_predicted):\n",
    "    sort = np.argsort(data_labels)\n",
    "    plt.plot(range(len(data_labels)), [data_labels[i] for i in sort])\n",
    "    plt.plot(range(len(labels_predicted)), [labels_predicted[i] for i in sort])\n",
    "    plt.ylim(-10, 0)\n",
    "    plt.show()\n",
    "\n",
    "def trainMethod(methodFactory, train_set, argsForFit):\n",
    "    data_labels = np.array(train_set[\"error\"].copy())\n",
    "    data_prepared = np.array(train_set.drop(\"error\", axis=1))\n",
    "    kfold = KFold(n_splits=3, shuffle=True, random_state=10)\n",
    "    errors = [];\n",
    "    errors_train = [];\n",
    "    part_error = None;\n",
    "    for train, test in kfold.split(data_prepared, data_labels):\n",
    "        method = methodFactory()\n",
    "        method.fit(data_prepared[train], data_labels[train], **argsForFit)\n",
    "        labels_predicted_train = np.squeeze(method.predict(data_prepared[train]))\n",
    "        labels_predicted = np.squeeze(method.predict(data_prepared[test]))\n",
    "        #if len(errors) == 0:\n",
    "        #    visualiseError(data_labels[test], labels_predicted)\n",
    "        errors.append(rmse(data_labels[test], labels_predicted))\n",
    "        errors_train.append(rmse(data_labels[train], labels_predicted_train))\n",
    "    print('Test Error: %.2e' % (sum(errors)/len(errors)))\n",
    "    print('Train Error: %.2e' % (sum(errors_train)/len(errors_train)))\n",
    "    return (sum(errors)/len(errors), sum(errors_train)/len(errors_train))"
   ]
  },
  {
   "cell_type": "code",
   "execution_count": 8,
   "metadata": {},
   "outputs": [],
   "source": [
    "def createLinearRegressor():\n",
    "    return LinearRegression()\n",
    "\n",
    "def createRandomForestRegressor():\n",
    "    return RandomForestRegressor(n_estimators=50, max_leaf_nodes = 100, max_depth = 5)\n",
    "\n",
    "def createSupportVectorMachinesRegressor():\n",
    "    return SVR(kernel = 'rbf', gamma = 'scale', epsilon = 0.1, C = 1)\n",
    "\n",
    "def createNearestNeighborsRegressor():\n",
    "    return KNeighborsRegressor(n_neighbors=5, weights='uniform')\n",
    "\n",
    "def createLinearLassoRegressor():\n",
    "    return Lasso(alpha = 0.01)\n",
    "\n",
    "def createLinearRidgeRegressor():\n",
    "    return Ridge()\n",
    "\n",
    "def createDecisionTreeRegressor():\n",
    "    return DecisionTreeRegressor(max_leaf_nodes = 100, max_depth = 5)\n",
    "\n",
    "def createGaussianProcessRegressor():\n",
    "    kernel = DotProduct() + WhiteKernel()\n",
    "    return GaussianProcessRegressor(kernel=kernel,random_state=0)\n",
    "\n",
    "def createVotingRegressor():\n",
    "    svr = createSupportVectorMachinesRegressor()\n",
    "    for_reg = createRandomForestRegressor()\n",
    "    k_neigh = createNearestNeighborsRegressor()\n",
    "    linear = createLinearRegressor()\n",
    "    return VotingRegressor([('a', svr), ('b', for_reg), ('c', k_neigh), ('d', linear)])\n",
    "\n",
    "def createNeuralNetwork():\n",
    "    method = keras.Sequential([\n",
    "            keras.layers.Dense(11, activation = 'elu', input_shape=(11,)),\n",
    "            keras.layers.Dense(11, activation = 'elu'),\n",
    "            keras.layers.Dense(1)\n",
    "        ])\n",
    "    optimizer = optimizers.Adam(learning_rate=0.1)\n",
    "    method.compile(optimizer=optimizer, loss='mean_squared_error')\n",
    "    return method"
   ]
  },
  {
   "cell_type": "code",
   "execution_count": 9,
   "metadata": {},
   "outputs": [
    {
     "name": "stdout",
     "output_type": "stream",
     "text": [
      "Linear\n",
      "Test Error: 9.75e-04\n",
      "Train Error: 9.57e-04\n",
      "\n",
      "Linear Lasso\n",
      "Test Error: 1.08e-03\n",
      "Train Error: 1.05e-03\n",
      "\n",
      "Linear Ridge\n",
      "Test Error: 9.92e-04\n",
      "Train Error: 9.67e-04\n",
      "\n",
      "Random Forest\n",
      "Test Error: 8.36e-04\n",
      "Train Error: 6.56e-04\n",
      "\n",
      "Decision Tree\n",
      "Test Error: 9.77e-04\n",
      "Train Error: 7.65e-04\n",
      "\n",
      "K Nearest Neighbors\n",
      "Test Error: 9.11e-04\n",
      "Train Error: 7.68e-04\n",
      "\n",
      "Support Vector Machines\n",
      "Test Error: 7.82e-04\n",
      "Train Error: 6.95e-04\n",
      "\n",
      "Voting Regressor\n",
      "Test Error: 7.96e-04\n",
      "Train Error: 7.22e-04\n",
      "\n",
      "Gaussian Process\n",
      "Test Error: 1.10e-03\n",
      "Train Error: 1.03e-03\n",
      "\n",
      "Neural Network\n",
      "Test Error: 8.11e-04\n",
      "Train Error: 7.99e-04\n"
     ]
    }
   ],
   "source": [
    "allErrors = []\n",
    "allLabels = ['Linear', 'Linear Lasso', 'Linear Ridge', 'Random Forest', 'Decision Tree', 'K Nearest Neighbors', 'Support Vector Machines', 'Voting Regressor', 'Gaussian Process', 'Neural Network']\n",
    "print('Linear')\n",
    "error = trainMethod(createLinearRegressor, train_set, {})\n",
    "allErrors.append(error)\n",
    "print()\n",
    "print('Linear Lasso')\n",
    "error = trainMethod(createLinearLassoRegressor, train_set, {})\n",
    "allErrors.append(error)\n",
    "print()\n",
    "print('Linear Ridge')\n",
    "error = trainMethod(createLinearRidgeRegressor, train_set, {})\n",
    "allErrors.append(error)\n",
    "print()\n",
    "print('Random Forest')\n",
    "error = trainMethod(createRandomForestRegressor, train_set, {})\n",
    "allErrors.append(error)\n",
    "print()\n",
    "print('Decision Tree')\n",
    "error = trainMethod(createDecisionTreeRegressor, train_set, {})\n",
    "allErrors.append(error)\n",
    "print()\n",
    "print('K Nearest Neighbors')\n",
    "error = trainMethod(createNearestNeighborsRegressor, train_set, {})\n",
    "allErrors.append(error)\n",
    "print()\n",
    "print('Support Vector Machines')\n",
    "error = trainMethod(createSupportVectorMachinesRegressor, train_set, {})\n",
    "allErrors.append(error)\n",
    "print()\n",
    "print('Voting Regressor')\n",
    "error = trainMethod(createVotingRegressor, train_set, {})\n",
    "allErrors.append(error)\n",
    "print()\n",
    "print('Gaussian Process')\n",
    "error = trainMethod(createGaussianProcessRegressor, train_set, {})\n",
    "allErrors.append(error)\n",
    "print()\n",
    "print('Neural Network')\n",
    "error = trainMethod(createNeuralNetwork, train_set, {'batch_size': 200, 'epochs': 200, 'validation_split': 0, 'verbose': 0})\n",
    "allErrors.append(error)"
   ]
  },
  {
   "cell_type": "code",
   "execution_count": 11,
   "metadata": {},
   "outputs": [
    {
     "data": {
      "text/plain": [
       "(array([0.    , 0.0002, 0.0004, 0.0006, 0.0008, 0.001 , 0.0012]),\n",
       " <a list of 7 Text xticklabel objects>)"
      ]
     },
     "execution_count": 11,
     "metadata": {},
     "output_type": "execute_result"
    },
    {
     "data": {
      "image/png": "[encoded data removed]",
      "text/plain": [
       "<Figure size 720x432 with 1 Axes>"
      ]
     },
     "metadata": {
      "needs_background": "light"
     },
     "output_type": "display_data"
    }
   ],
   "source": [
    "allErrors\n",
    "testErrors = list(zip(*allErrors))[0]\n",
    "trainErrors = list(zip(*allErrors))[1]\n",
    "sort = list(reversed(np.argsort(testErrors)))\n",
    "plt.figure(figsize=(10, 6))\n",
    "plt.plot([10**-3, 10**-3], [-10, 15], c = 'k')\n",
    "plt.plot([10**-4, 10**-4], [-10, 15], c = 'k')\n",
    "a = plt.barh([allLabels[i] for i in sort], [testErrors[i] for i in sort])\n",
    "b = plt.barh([allLabels[i] for i in sort], [trainErrors[i] for i in sort])\n",
    "plt.legend([a, b], ['Testavimo paklaida', 'Mokymosi paklaida'], bbox_to_anchor=(0.2, 0, 0, 0.5), framealpha = 1, fontsize=14)\n",
    "plt.ticklabel_format(style='sci', axis='x', scilimits=(0,0))\n",
    "plt.ylim(-1, 10)\n",
    "plt.xlabel('Metodo paklaida, s.v.', fontsize=14)\n",
    "plt.ylabel('Metodo pavadinimas', fontsize=14)\n",
    "plt.yticks(fontsize=14)\n",
    "plt.xticks(fontsize=14)"
   ]
  },
  {
   "cell_type": "code",
   "execution_count": null,
   "metadata": {},
   "outputs": [],
   "source": []
  }
 ],
 "metadata": {
  "kernelspec": {
   "display_name": "Python 3",
   "language": "python",
   "name": "python3"
  },
  "language_info": {
   "codemirror_mode": {
    "name": "ipython",
    "version": 3
   },
   "file_extension": ".py",
   "mimetype": "text/x-python",
   "name": "python",
   "nbconvert_exporter": "python",
   "pygments_lexer": "ipython3",
   "version": "3.7.3"
  }
 },
 "nbformat": 4,
 "nbformat_minor": 2
}
